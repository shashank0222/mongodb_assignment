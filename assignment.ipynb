{
 "cells": [
  {
   "cell_type": "markdown",
   "id": "e87097ec-d60b-49ae-aad2-7dbad413afd4",
   "metadata": {},
   "source": [
    "Q1. What is MongoDB? Explain non-relational databases in short. In which scenarios it is preferred to use\n",
    "MongoDB over SQL databases?\n"
   ]
  },
  {
   "cell_type": "markdown",
   "id": "7b4ca98f-c5cb-4847-8ee2-7b638bd5eefe",
   "metadata": {},
   "source": [
    "MongoDB is a NoSQL database technology that stores its data in JSON format rather than a relational format that you’d find in SQL databases. This makes MongoDB flexible because data can be stored in a hierarchical format within the JSON document, thereby making it easy and fast to retrieve records.\n",
    "\n",
    "Non-relational databases are sometimes referred to as “NoSQL,” which stands for Not Only SQL. The main difference between these is how they store their information. A non-relational database stores data in a non-tabular form, and tends to be more flexible than the traditional, SQL-based, relational database structures. It does not follow the relational model provided by traditional relational database management systems.\n",
    "\n",
    "MongoDB can be preferred over SQL in scenarios where data is unstructured, complex, there is no pre-determined schema and you need to handle large amounts of data and store it as documents. The decision to use MongoDB vs SQL depends on various factors. For simple use and limited system offerings, SQL might be more suitable whereas if your system fulfills the prerequisites and optimized querying is desired, you might rely on a NoSQL Database like MongoDB."
   ]
  },
  {
   "cell_type": "code",
   "execution_count": null,
   "id": "d955873d-bc02-42a2-a81d-1ea9b8f28166",
   "metadata": {},
   "outputs": [],
   "source": []
  },
  {
   "cell_type": "markdown",
   "id": "ccc0dfdd-6903-4f0d-9ad7-2471c99c09aa",
   "metadata": {},
   "source": [
    "Q2. State and Explain the features of MongoDB."
   ]
  },
  {
   "cell_type": "markdown",
   "id": "baf8f6cc-a38f-4a3f-bc79-d389db46b7d8",
   "metadata": {},
   "source": [
    "1. Support ad hoc queries In MongoDB, you can search by field, range query and it also supports regular expression searches.\n",
    "\n",
    "2. Indexing You can index any field in a document.\n",
    "\n",
    "3. Replication MongoDB supports Master Slave replication. A master can perform Reads and Writes and a Slave copies data from the master and can only be used for reads or back up (not writes).\n",
    "\n",
    "4. Duplication of data MongoDB can run over multiple servers. The data is duplicated to keep the system up and also keep its running condition in case of hardware failure.\n",
    "\n",
    "5. Load balancing It has an automatic load balancing configuration because of data placed in shards.\n",
    "\n",
    "6. Supports map reduce and aggregation tools.\n",
    "\n",
    "7. Uses JavaScript instead of Procedures.\n",
    "\n",
    "8. It is a schema-less database written in C++.\n",
    "\n",
    "9. Provides high performance.\n",
    "\n",
    "10. Stores files of any size easily without complicating your stack.\n",
    "\n",
    "11. Easy to administer in the case of failures.\n",
    "\n",
    "12. It also supports: JSON data model with dynamic schemas Auto-sharding for horizontal scalability Built-in replication for high availability.\n"
   ]
  },
  {
   "cell_type": "code",
   "execution_count": null,
   "id": "78d2ea52-8693-4358-b8ed-8cf08966c124",
   "metadata": {},
   "outputs": [],
   "source": []
  },
  {
   "cell_type": "markdown",
   "id": "461e4759-37be-4b3d-8e71-7a9d090b8c4a",
   "metadata": {},
   "source": [
    "Q3. Write a code to connect MongoDB to Python. Also, create a database and a collection in MongoDB."
   ]
  },
  {
   "cell_type": "markdown",
   "id": "6b6df2fb-800b-4aa3-aac7-7d04ef906237",
   "metadata": {},
   "source": [
    "import pymongo\n",
    "\n",
    "if __name__ == \"__main__\":\n",
    "\n",
    "    print(\"welcome to pymongo\")\n",
    "    \n",
    "    client = pymongo.MongoClient('mongodb://localhost:27017/')\n",
    "    \n",
    "    print(client)\n",
    "    \n",
    "    db = client['shashank']\n",
    "    \n",
    "    coll_create = db['information']\n"
   ]
  },
  {
   "cell_type": "markdown",
   "id": "03719b27-b13d-4e2e-b081-4cfbff4aaa15",
   "metadata": {},
   "source": [
    "Q4. Using the database and the collection created in question number 3, write a code to insert one record,\n",
    "and insert many records. Use the find() and find_one() methods to print the inserted record."
   ]
  },
  {
   "cell_type": "markdown",
   "id": "86803d1c-8428-47b4-83d7-93ab8cd641a5",
   "metadata": {},
   "source": [
    "    data = {\n",
    "        'name' : 'shashank',\n",
    "        'roll no': 1106,\n",
    "        'univ' : 'DCRUST',\n",
    "        'dept' : 'CSE'\n",
    "    }\n",
    "    \n",
    "    coll_create.insert_one(data)\n",
    "\n",
    "\n",
    "    data = [\n",
    "        {'name' : 'shashank',\n",
    "        'roll no': 1106,\n",
    "        'univ' : 'DCRUST',\n",
    "        'dept' : 'CSE'},\n",
    "\n",
    "        {'name' : 'yash',\n",
    "        'roll no': 1139,\n",
    "        'univ' : 'DCRUST',\n",
    "        'dept' : 'CSE'},\n",
    "\n",
    "        {'name' : 'vishal',\n",
    "        'roll no': 1912,\n",
    "        'univ' : 'DCRUST',\n",
    "        'dept' : 'CSE'}\n",
    "    ]\n",
    "\n",
    "    coll_create.insert_many(data)\n",
    "    \n",
    "    \n",
    "    alldocs = coll_create.find()   \n",
    "    \n",
    "    for docs in alldocs:\n",
    "    \n",
    "        print(docs)\n",
    "\n",
    "    one = coll_create.find_one()  # it will find the first document .\n",
    "    \n",
    "    print(one)  "
   ]
  },
  {
   "cell_type": "markdown",
   "id": "a18d7536-f26d-412a-8b86-2eba697208b3",
   "metadata": {},
   "source": [
    "Q6. Explain the sort() method. Give an example to demonstrate sorting in MongoDB."
   ]
  },
  {
   "cell_type": "markdown",
   "id": "32e37161-7b2d-4d52-995e-a7c07bf16609",
   "metadata": {},
   "source": [
    "data = coll_create.find()\n",
    "\n",
    "\n",
    "data.sort('_id' , pymongo.DESCENDING )\n",
    "\n",
    "for i in data:\n",
    "\n",
    "    print(i)"
   ]
  },
  {
   "cell_type": "code",
   "execution_count": null,
   "id": "d49b79d2-bf07-4c3e-b319-f87b71bb0c00",
   "metadata": {},
   "outputs": [],
   "source": []
  },
  {
   "cell_type": "markdown",
   "id": "79002953-6118-49b3-a984-8a435c1a2193",
   "metadata": {},
   "source": [
    "Q7. Explain why delete_one(), delete_many(), and drop() is used."
   ]
  },
  {
   "cell_type": "markdown",
   "id": "480b4f79-23a3-471b-8de2-3d2b9de12fe6",
   "metadata": {},
   "source": [
    "    prev = {'name' : 'vishal'}  # it means where dept cse is present do the changes\n",
    "\n",
    "    collection.delete_one(prev)  # it will delete only one document which has {'name' : 'vishal'}\n",
    "\n",
    "    # To delete many documents\n",
    "    # Also if we want to know that how many docs have been deleted , we use deleted_count\n",
    "\n",
    "    doc = {'univ' : 'DCRUST'}\n",
    "    up = collection.delete_many(doc)\n",
    "    print(up.deleted_count)   \n",
    "\n",
    "\n",
    "    up = collection.drop()  # drop the entire collection"
   ]
  },
  {
   "cell_type": "code",
   "execution_count": null,
   "id": "c26eeb60-86e3-4423-b178-1b6b238cbd43",
   "metadata": {},
   "outputs": [],
   "source": []
  },
  {
   "cell_type": "code",
   "execution_count": null,
   "id": "16c1224e-b0ed-43d9-a7e4-425569ee4e65",
   "metadata": {},
   "outputs": [],
   "source": []
  }
 ],
 "metadata": {
  "kernelspec": {
   "display_name": "Python 3 (ipykernel)",
   "language": "python",
   "name": "python3"
  },
  "language_info": {
   "codemirror_mode": {
    "name": "ipython",
    "version": 3
   },
   "file_extension": ".py",
   "mimetype": "text/x-python",
   "name": "python",
   "nbconvert_exporter": "python",
   "pygments_lexer": "ipython3",
   "version": "3.10.8"
  }
 },
 "nbformat": 4,
 "nbformat_minor": 5
}
